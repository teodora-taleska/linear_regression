{
 "cells": [
  {
   "cell_type": "markdown",
   "source": "## Linear regression",
   "metadata": {
    "collapsed": false
   }
  },
  {
   "metadata": {
    "ExecuteTime": {
     "end_time": "2024-10-17T19:50:18.272626Z",
     "start_time": "2024-10-17T19:50:15.359155Z"
    }
   },
   "cell_type": "code",
   "source": [
    "# imports\n",
    "import pandas as pd\n",
    "from sklearn.model_selection import train_test_split\n",
    "import numpy as np"
   ],
   "outputs": [],
   "execution_count": 17
  },
  {
   "cell_type": "markdown",
   "source": "### Data preprocessing",
   "metadata": {
    "collapsed": false
   }
  },
  {
   "cell_type": "code",
   "metadata": {
    "collapsed": true,
    "ExecuteTime": {
     "end_time": "2024-10-17T19:42:49.174758Z",
     "start_time": "2024-10-17T19:42:49.143579Z"
    }
   },
   "source": [
    "df = pd.read_csv('podatki_PM.csv')\n",
    "\n",
    "print('Null values: \\n',df.isnull().sum())\n",
    "df = df.drop(columns=['Datum'])\n",
    "\n",
    "df.fillna(df.mean(), inplace=True)\n",
    "\n",
    "print('Null values: \\n',df.isnull().sum())\n",
    "print('\\n')\n",
    "num_instances, num_features = df.shape\n",
    "\n",
    "print(f\"Number of instances: {num_instances}\")\n",
    "print(f\"Number of features: {num_features}\")\n"
   ],
   "outputs": [
    {
     "name": "stdout",
     "output_type": "stream",
     "text": [
      "Null values: \n",
      " Datum                         0\n",
      "Glob_sevanje_mean             0\n",
      "Hitrost_vetra_mean            0\n",
      "Sunki_vetra_max               0\n",
      "Padavine_sum                  0\n",
      "Vlaga_mean                    0\n",
      "Temperatura_Krvavec_mean      0\n",
      "Temperatura_lokacija_mean     0\n",
      "PM10                          0\n",
      "PM_vceraj                    33\n",
      "sinD                          0\n",
      "cosD                          0\n",
      "dtype: int64\n",
      "Datum type object\n",
      "Datum type after conversion datetime64[ns]\n",
      "Null values: \n",
      " Datum                        0\n",
      "Glob_sevanje_mean            0\n",
      "Hitrost_vetra_mean           0\n",
      "Sunki_vetra_max              0\n",
      "Padavine_sum                 0\n",
      "Vlaga_mean                   0\n",
      "Temperatura_Krvavec_mean     0\n",
      "Temperatura_lokacija_mean    0\n",
      "PM10                         0\n",
      "PM_vceraj                    0\n",
      "sinD                         0\n",
      "cosD                         0\n",
      "dtype: int64\n",
      "\n",
      "\n",
      "Number of instances: 1213\n",
      "Number of features: 12\n"
     ]
    }
   ],
   "execution_count": 16
  },
  {
   "cell_type": "markdown",
   "source": [
    "### Data splitting and Target variable selection"
   ],
   "metadata": {
    "collapsed": false
   }
  },
  {
   "metadata": {
    "collapsed": false,
    "ExecuteTime": {
     "end_time": "2024-10-17T19:56:24.117338Z",
     "start_time": "2024-10-17T19:56:24.101462Z"
    }
   },
   "cell_type": "code",
   "source": [
    "X = df.drop(columns=['PM10'])  # Features\n",
    "y = df['PM10']                 # Target variable\n",
    "\n",
    "# 70/30 train-test split without random shuffling\n",
    "X_train, X_test, y_train, y_test = train_test_split(X, y, test_size=0.3, shuffle=False)\n",
    "\n",
    "print(f\"Training features shape: {X_train.shape}\")\n",
    "print(f\"Testing features shape: {X_test.shape}\")\n",
    "print(f\"Training target shape: {y_train.shape}\")\n",
    "print(f\"Testing target shape: {y_test.shape}\")\n"
   ],
   "outputs": [
    {
     "name": "stdout",
     "output_type": "stream",
     "text": [
      "Training features shape: (849, 11)\n",
      "Testing features shape: (364, 11)\n",
      "Training target shape: (849,)\n",
      "Testing target shape: (364,)\n"
     ]
    }
   ],
   "execution_count": 21
  },
  {
   "metadata": {
    "collapsed": false
   },
   "cell_type": "markdown",
   "source": "### Multiple Linear Regression"
  },
  {
   "cell_type": "code",
   "execution_count": null,
   "outputs": [],
   "source": [],
   "metadata": {
    "collapsed": false
   }
  },
  {
   "cell_type": "markdown",
   "source": [
    "### Test: Compare the manually written linear regression model with the scikit-learn model"
   ],
   "metadata": {
    "collapsed": false
   }
  },
  {
   "cell_type": "code",
   "execution_count": null,
   "outputs": [],
   "source": [],
   "metadata": {
    "collapsed": false
   }
  },
  {
   "cell_type": "markdown",
   "source": [
    "### Diagnose your linear regression with the diagnostic plots"
   ],
   "metadata": {
    "collapsed": false
   }
  },
  {
   "cell_type": "code",
   "execution_count": null,
   "outputs": [],
   "source": [],
   "metadata": {
    "collapsed": false
   }
  },
  {
   "cell_type": "markdown",
   "source": [
    "### Improvements"
   ],
   "metadata": {
    "collapsed": false
   }
  },
  {
   "cell_type": "code",
   "execution_count": null,
   "outputs": [],
   "source": [],
   "metadata": {
    "collapsed": false
   }
  }
 ],
 "metadata": {
  "kernelspec": {
   "display_name": "Python 3",
   "language": "python",
   "name": "python3"
  },
  "language_info": {
   "codemirror_mode": {
    "name": "ipython",
    "version": 2
   },
   "file_extension": ".py",
   "mimetype": "text/x-python",
   "name": "python",
   "nbconvert_exporter": "python",
   "pygments_lexer": "ipython2",
   "version": "2.7.6"
  }
 },
 "nbformat": 4,
 "nbformat_minor": 0
}
